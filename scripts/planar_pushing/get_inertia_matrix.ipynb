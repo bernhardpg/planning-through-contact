{
 "cells": [
  {
   "cell_type": "code",
   "execution_count": 1,
   "metadata": {},
   "outputs": [
    {
     "data": {
      "text/plain": [
       "[[6.166666666666667e-05, 0.0, 0.0],\n",
       " [0.0, 6.166666666666667e-05, 0.0],\n",
       " [0.0, 0.0, 8.166666666666668e-05]]"
      ]
     },
     "execution_count": 1,
     "metadata": {},
     "output_type": "execute_result"
    }
   ],
   "source": [
    "def get_cube_inertia_matrix(mass, x, y, z):\n",
    "    \"\"\"Given mass and dimensions of a cube return intertia matrix.\n",
    "    :return: ixx, ixy, ixz, ixy, iyy, iyz, ixz, iyz, izz\n",
    "    From https://www.wolframalpha.com/input/?i=moment+of+inertia+cube\"\"\"\n",
    "    ixx = (1.0 / 12.0) * (y**2 + z**2) * mass\n",
    "    iyy = (1.0 / 12.0) * (x**2 + z**2) * mass\n",
    "    izz = (1.0 / 12.0) * (x**2 + y**2) * mass\n",
    "    ixy = 0.0\n",
    "    ixz = 0.0\n",
    "    iyz = 0.0\n",
    "    return [[ixx, ixy, ixz], [ixy, iyy, iyz], [ixz, iyz, izz]]\n",
    "\n",
    "# get_cube_inertia_matrix(mass=0.3, x=0.15, y=0.25, z=0.05)\n",
    "get_cube_inertia_matrix(mass=0.1, x=0.07, y=0.07, z=0.05)"
   ]
  },
  {
   "cell_type": "code",
   "execution_count": 1,
   "metadata": {},
   "outputs": [
    {
     "data": {
      "text/plain": [
       "[[0.00030645833333333333, 0.0, 0.0],\n",
       " [0.0, 0.00030645833333333333, 0.0],\n",
       " [0.0, 0.0, 1.125e-05]]"
      ]
     },
     "execution_count": 1,
     "metadata": {},
     "output_type": "execute_result"
    }
   ],
   "source": [
    "def get_cylinder_inertia_matrix(mass, r, h):\n",
    "    \"\"\"Given mass and dimensions of a cylinder return intertia matrix.\n",
    "    :return: ixx, ixy, ixz, ixy, iyy, iyz, ixz, iyz, izz\n",
    "    From https://scienceworld.wolfram.com/physics/MomentofInertiaCylinder.html\"\"\"\n",
    "    ixx = (1.0 / 12.0) * h**2 * mass + (1.0 / 4.0) * r**2 * mass\n",
    "    iyy = ixx\n",
    "    izz = (1.0 / 2.0) * r**2 * mass\n",
    "    ixy = 0.0\n",
    "    ixz = 0.0\n",
    "    iyz = 0.0\n",
    "    return [[ixx, ixy, ixz], [ixy, iyy, iyz], [ixz, iyz, izz]]\n",
    "\n",
    "get_cylinder_inertia_matrix(mass=0.1, r=0.015, h=0.19)"
   ]
  },
  {
   "cell_type": "code",
   "execution_count": 3,
   "metadata": {},
   "outputs": [
    {
     "data": {
      "text/plain": [
       "[[3.642857142857143e-05, 0.0, 0.0],\n",
       " [0.0, 0.0003096428571428571, 0.0],\n",
       " [0.0, 0.0, 0.0003096428571428571]]"
      ]
     },
     "execution_count": 3,
     "metadata": {},
     "output_type": "execute_result"
    }
   ],
   "source": [
    "top_mass = (153/(20+15) * 20)/1000\n",
    "get_cube_inertia_matrix(mass=top_mass, x=0.2, y=0.05, z=0.05)"
   ]
  },
  {
   "cell_type": "code",
   "execution_count": 4,
   "metadata": {},
   "outputs": [
    {
     "name": "stdout",
     "output_type": "stream",
     "text": [
      "0.08742857142857141\n"
     ]
    },
    {
     "data": {
      "text/plain": [
       "array([[3.64285714e-05, 0.00000000e+00, 0.00000000e+00],\n",
       "       [0.00000000e+00, 3.09642857e-04, 0.00000000e+00],\n",
       "       [0.00000000e+00, 0.00000000e+00, 3.09642857e-04]])"
      ]
     },
     "execution_count": 4,
     "metadata": {},
     "output_type": "execute_result"
    }
   ],
   "source": [
    "from pydrake.all import (SpatialInertia)\n",
    "print(top_mass)\n",
    "SpatialInertia.SolidBoxWithMass(top_mass, 0.2, 0.05, 0.05).CalcRotationalInertia().CopyToFullMatrix3()"
   ]
  },
  {
   "cell_type": "code",
   "execution_count": 5,
   "metadata": {},
   "outputs": [
    {
     "name": "stdout",
     "output_type": "stream",
     "text": [
      "0.06557142857142857\n"
     ]
    },
    {
     "data": {
      "text/plain": [
       "array([[1.36607143e-04, 0.00000000e+00, 0.00000000e+00],\n",
       "       [0.00000000e+00, 2.73214286e-05, 0.00000000e+00],\n",
       "       [0.00000000e+00, 0.00000000e+00, 1.36607143e-04]])"
      ]
     },
     "execution_count": 5,
     "metadata": {},
     "output_type": "execute_result"
    }
   ],
   "source": [
    "bottom_mass = ((153/(20+15)) * 15)/1000\n",
    "print(bottom_mass)\n",
    "SpatialInertia.SolidBoxWithMass(bottom_mass, 0.05, 0.15, 0.05).CalcRotationalInertia().CopyToFullMatrix3()"
   ]
  },
  {
   "cell_type": "markdown",
   "metadata": {},
   "source": [
    "Here I use the an SDF with two links that are welded together each with their own inertial matrix in order to calculate the combined inertial matrix and center of mass so that I can put that in the SDF where the entire T is a single link."
   ]
  },
  {
   "cell_type": "code",
   "execution_count": 6,
   "metadata": {},
   "outputs": [
    {
     "name": "stdout",
     "output_type": "stream",
     "text": [
      "mass = 0.15299999999999997\n",
      "\n",
      "p_PScm = center of mass = [ 0.         -0.04285714  0.        ]\n",
      "\n",
      "I_SP = rotational inertia = \n",
      "[[0.00082875 0.         0.        ]\n",
      " [0.         0.00033696 0.        ]\n",
      " [0.         0.         0.00110196]]\n",
      "\n"
     ]
    }
   ],
   "source": [
    "from pydrake.all import (MultibodyPlant, MultibodyPlantConfig, DiagramBuilder, AddMultibodyPlant, ModelVisualizer)\n",
    "from planning_through_contact.simulation.sim_utils import GetParser, ConfigureParser\n",
    "\n",
    "time_step = 1e-3\n",
    "builder = DiagramBuilder()\n",
    "plant, scene_graph = AddMultibodyPlant(\n",
    "    MultibodyPlantConfig(\n",
    "        time_step=time_step,\n",
    "        discrete_contact_approximation=\"similar\"),\n",
    "    builder)\n",
    "parser = GetParser(plant)\n",
    "\n",
    "# slider_sdf_url = \"package://planning_through_contact/box_hydroelastic.sdf\"\n",
    "slider_sdf_url = \"package://planning_through_contact/t_pusher_separate.sdf\"\n",
    "parser.AddModels(url=slider_sdf_url)\n",
    "plant.Finalize()\n",
    "\n",
    "sim = builder.Build()\n",
    "context = sim.CreateDefaultContext()\n",
    "plant_context = plant.GetMyContextFromRoot(context)\n",
    "slider_frame = plant.GetFrameByName(\"t_pusher_top\")\n",
    "body_indices = plant.GetBodyIndices(plant.GetModelInstanceByName(\"t_pusher\"))\n",
    "spatial_inertia = plant.CalcSpatialInertia(plant_context, slider_frame, body_indices)\n",
    "\n",
    "mass = spatial_inertia.get_mass()\n",
    "center_of_mass = spatial_inertia.get_com()\n",
    "matrix6 = spatial_inertia.CopyToFullMatrix6()\n",
    "\n",
    "print(f\"mass = {mass}\\n\")\n",
    "print(f\"p_PScm = center of mass = {center_of_mass}\\n\")\n",
    "print(f\"I_SP = rotational inertia = \\n{matrix6[:3, :3]}\\n\")"
   ]
  },
  {
   "cell_type": "code",
   "execution_count": 7,
   "metadata": {},
   "outputs": [
    {
     "name": "stderr",
     "output_type": "stream",
     "text": [
      "INFO:drake:Meshcat listening for connections at http://localhost:7000\n"
     ]
    }
   ],
   "source": [
    "from pydrake.geometry import StartMeshcat\n",
    "\n",
    "# Start the visualizer. The cell will output an HTTP link after the execution.\n",
    "# Click the link and a MeshCat tab should appear in your browser.\n",
    "meshcat = StartMeshcat()"
   ]
  },
  {
   "cell_type": "markdown",
   "metadata": {},
   "source": [
    "Use the following cell to visualize the inertias of the model, both the split sdf and the combined one."
   ]
  },
  {
   "cell_type": "code",
   "execution_count": 12,
   "metadata": {},
   "outputs": [],
   "source": [
    "slider_sdf_url = \"package://planning_through_contact/t_pusher.sdf\"\n",
    "visualizer = ModelVisualizer(meshcat=meshcat, visualize_frames=True)\n",
    "vis_parser = visualizer.parser()\n",
    "ConfigureParser(vis_parser)\n",
    "vis_parser.AddModels(url=slider_sdf_url)\n",
    "visualizer.Run(loop_once=True)"
   ]
  },
  {
   "cell_type": "code",
   "execution_count": null,
   "metadata": {},
   "outputs": [],
   "source": []
  }
 ],
 "metadata": {
  "kernelspec": {
   "display_name": "planning-through-contact-voCOubHY-py3.11",
   "language": "python",
   "name": "python3"
  },
  "language_info": {
   "codemirror_mode": {
    "name": "ipython",
    "version": 3
   },
   "file_extension": ".py",
   "mimetype": "text/x-python",
   "name": "python",
   "nbconvert_exporter": "python",
   "pygments_lexer": "ipython3",
   "version": "3.11.5"
  },
  "orig_nbformat": 4
 },
 "nbformat": 4,
 "nbformat_minor": 2
}
