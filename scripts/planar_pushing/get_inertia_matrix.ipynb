{
 "cells": [
  {
   "cell_type": "code",
   "execution_count": 1,
   "metadata": {},
   "outputs": [
    {
     "data": {
      "text/plain": [
       "[[6.166666666666667e-05, 0.0, 0.0],\n",
       " [0.0, 6.166666666666667e-05, 0.0],\n",
       " [0.0, 0.0, 8.166666666666668e-05]]"
      ]
     },
     "execution_count": 1,
     "metadata": {},
     "output_type": "execute_result"
    }
   ],
   "source": [
    "def get_cube_inertia_matrix(mass, x, y, z):\n",
    "    \"\"\"Given mass and dimensions of a cube return intertia matrix.\n",
    "    :return: ixx, ixy, ixz, ixy, iyy, iyz, ixz, iyz, izz\n",
    "    From https://www.wolframalpha.com/input/?i=moment+of+inertia+cube\"\"\"\n",
    "    ixx = (1.0 / 12.0) * (y**2 + z**2) * mass\n",
    "    iyy = (1.0 / 12.0) * (x**2 + z**2) * mass\n",
    "    izz = (1.0 / 12.0) * (x**2 + y**2) * mass\n",
    "    ixy = 0.0\n",
    "    ixz = 0.0\n",
    "    iyz = 0.0\n",
    "    return [[ixx, ixy, ixz], [ixy, iyy, iyz], [ixz, iyz, izz]]\n",
    "\n",
    "# get_cube_inertia_matrix(mass=0.3, x=0.15, y=0.25, z=0.05)\n",
    "get_cube_inertia_matrix(mass=0.1, x=0.07, y=0.07, z=0.05)"
   ]
  },
  {
   "cell_type": "code",
   "execution_count": 2,
   "metadata": {},
   "outputs": [
    {
     "data": {
      "text/plain": [
       "[[0.00016895833333333335, 0.0, 0.0],\n",
       " [0.0, 0.00016895833333333335, 0.0],\n",
       " [0.0, 0.0, 1.125e-05]]"
      ]
     },
     "execution_count": 2,
     "metadata": {},
     "output_type": "execute_result"
    }
   ],
   "source": [
    "def get_cylinder_inertia_matrix(mass, r, h):\n",
    "    \"\"\"Given mass and dimensions of a cylinder return intertia matrix.\n",
    "    :return: ixx, ixy, ixz, ixy, iyy, iyz, ixz, iyz, izz\n",
    "    From https://scienceworld.wolfram.com/physics/MomentofInertiaCylinder.html\"\"\"\n",
    "    ixx = (1.0 / 12.0) * h**2 * mass + (1.0 / 4.0) * r**2 * mass\n",
    "    iyy = ixx\n",
    "    izz = (1.0 / 2.0) * r**2 * mass\n",
    "    ixy = 0.0\n",
    "    ixz = 0.0\n",
    "    iyz = 0.0\n",
    "    return [[ixx, ixy, ixz], [ixy, iyy, iyz], [ixz, iyz, izz]]\n",
    "\n",
    "get_cylinder_inertia_matrix(mass=0.1, r=0.015, h=0.14)"
   ]
  },
  {
   "cell_type": "code",
   "execution_count": null,
   "metadata": {},
   "outputs": [],
   "source": []
  }
 ],
 "metadata": {
  "kernelspec": {
   "display_name": "planning-through-contact-voCOubHY-py3.11",
   "language": "python",
   "name": "python3"
  },
  "language_info": {
   "codemirror_mode": {
    "name": "ipython",
    "version": 3
   },
   "file_extension": ".py",
   "mimetype": "text/x-python",
   "name": "python",
   "nbconvert_exporter": "python",
   "pygments_lexer": "ipython3",
   "version": "3.11.4"
  },
  "orig_nbformat": 4
 },
 "nbformat": 4,
 "nbformat_minor": 2
}
