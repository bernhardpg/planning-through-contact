{
 "cells": [
  {
   "cell_type": "code",
   "execution_count": 2,
   "metadata": {},
   "outputs": [],
   "source": [
    "from datetime import datetime\n",
    "def compute_rtr(start_time_stamp, end_time_stamp, duration=40):\n",
    "    # Timestamps should be in the format \"15:18:59\"\n",
    "    # Define the timestamps for the start and end of the real time period\n",
    "    start_time = datetime.strptime(start_time_stamp, \"%H:%M:%S\")\n",
    "    end_time = datetime.strptime(end_time_stamp, \"%H:%M:%S\")\n",
    "\n",
    "    # Calculate the difference in real time in seconds\n",
    "    real_time_difference_seconds = (end_time - start_time).total_seconds()\n",
    "\n",
    "    # Simulation time difference in seconds\n",
    "    simulation_time_seconds = duration\n",
    "\n",
    "    # Calculate the ratio of simulation time to real time\n",
    "    ratio = simulation_time_seconds / real_time_difference_seconds\n",
    "    return ratio"
   ]
  },
  {
   "cell_type": "code",
   "execution_count": 19,
   "metadata": {},
   "outputs": [
    {
     "data": {
      "text/plain": [
       "10.0"
      ]
     },
     "execution_count": 19,
     "metadata": {},
     "output_type": "execute_result"
    }
   ],
   "source": [
    "compute_rtr(\"10:24:16\", \"10:24:21\", 50)"
   ]
  },
  {
   "cell_type": "code",
   "execution_count": null,
   "metadata": {},
   "outputs": [],
   "source": []
  }
 ],
 "metadata": {
  "kernelspec": {
   "display_name": ".venv",
   "language": "python",
   "name": "python3"
  },
  "language_info": {
   "codemirror_mode": {
    "name": "ipython",
    "version": 3
   },
   "file_extension": ".py",
   "mimetype": "text/x-python",
   "name": "python",
   "nbconvert_exporter": "python",
   "pygments_lexer": "ipython3",
   "version": "3.11.4"
  }
 },
 "nbformat": 4,
 "nbformat_minor": 2
}
