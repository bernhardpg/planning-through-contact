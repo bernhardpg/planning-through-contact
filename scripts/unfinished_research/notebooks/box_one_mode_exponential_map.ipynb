version https://git-lfs.github.com/spec/v1
oid sha256:a61b48516039ea16f50f0767ceebaa1f05a6eb609fb535b3025aadb0f0b7a87e
size 10850247
