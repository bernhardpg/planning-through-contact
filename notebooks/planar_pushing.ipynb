{
 "cells": [
  {
   "cell_type": "code",
   "execution_count": null,
   "metadata": {},
   "outputs": [],
   "source": [
    "from planning_through_contact.experiments.utils import get_default_plan_config\n",
    "from planning_through_contact.planning.planar.planar_pushing_planner import PlanarPushingPlanner\n",
    "from planning_through_contact.geometry.planar.planar_pose import PlanarPose\n",
    "from planning_through_contact.planning.planar.planar_plan_config import PlanarPushingStartAndGoal\n",
    "from planning_through_contact.experiments.utils import get_default_solver_params\n",
    "from planning_through_contact.visualize.planar_pushing import visualize_planar_pushing_trajectory\n",
    "from planning_through_contact.geometry.planar.planar_pushing_trajectory import PlanarPushingTrajectory\n",
    "from IPython.display import HTML, display"
   ]
  },
  {
   "cell_type": "code",
   "execution_count": null,
   "metadata": {},
   "outputs": [],
   "source": [
    "solver_params = get_default_solver_params()\n",
    "\n",
    "def plan_trajectory(slider_initial_pose: PlanarPose, slider_type: str) -> PlanarPushingTrajectory:\n",
    "    config = get_default_plan_config(slider_type=slider_type)\n",
    "    start_and_goal = PlanarPushingStartAndGoal(\n",
    "        slider_initial_pose=slider_initial_pose,\n",
    "        slider_target_pose=PlanarPose(0.0, 0.0, 0.0),\n",
    "        pusher_initial_pose=PlanarPose(-0.3, 0, 0),\n",
    "        pusher_target_pose=PlanarPose(-0.3, 0, 0),\n",
    "    )\n",
    "    config.start_and_goal = start_and_goal\n",
    "    planner = PlanarPushingPlanner(config)\n",
    "    planner.formulate_problem()\n",
    "    path = planner.plan_path(solver_params)\n",
    "    return path.to_traj(rounded=True)"
   ]
  },
  {
   "cell_type": "markdown",
   "metadata": {},
   "source": [
    "#### Planning for a triangle"
   ]
  },
  {
   "cell_type": "code",
   "execution_count": null,
   "metadata": {},
   "outputs": [],
   "source": [
    "slider_initial_pose=PlanarPose(0.4, 0.2, 0.2)\n",
    "trajectory = plan_trajectory(slider_initial_pose, slider_type=\"triangle\")"
   ]
  },
  {
   "cell_type": "code",
   "execution_count": null,
   "metadata": {},
   "outputs": [],
   "source": [
    "ani = visualize_planar_pushing_trajectory(trajectory)\n",
    "display(HTML(ani.to_jshtml()))"
   ]
  },
  {
   "cell_type": "markdown",
   "metadata": {},
   "source": [
    "#### Planning for a box"
   ]
  },
  {
   "cell_type": "code",
   "execution_count": null,
   "metadata": {},
   "outputs": [],
   "source": [
    "slider_initial_pose=PlanarPose(-0.3, 0.3, -1.0)\n",
    "trajectory = plan_trajectory(slider_initial_pose, slider_type=\"sugar_box\")"
   ]
  },
  {
   "cell_type": "code",
   "execution_count": null,
   "metadata": {},
   "outputs": [],
   "source": [
    "ani = visualize_planar_pushing_trajectory(trajectory)\n",
    "display(HTML(ani.to_jshtml()))"
   ]
  },
  {
   "cell_type": "markdown",
   "metadata": {},
   "source": [
    "##### Planning for a convex geometry with 4 corners"
   ]
  },
  {
   "cell_type": "code",
   "execution_count": null,
   "metadata": {},
   "outputs": [],
   "source": [
    "slider_initial_pose=PlanarPose(0.25, 0.2, 1.0)\n",
    "trajectory = plan_trajectory(slider_initial_pose, slider_type=\"convex_4\")"
   ]
  },
  {
   "cell_type": "code",
   "execution_count": null,
   "metadata": {},
   "outputs": [],
   "source": [
    "ani = visualize_planar_pushing_trajectory(trajectory)\n",
    "display(HTML(ani.to_jshtml()))"
   ]
  },
  {
   "cell_type": "markdown",
   "metadata": {},
   "source": [
    "##### Planning for a convex geometry with 5 corners"
   ]
  },
  {
   "cell_type": "code",
   "execution_count": null,
   "metadata": {},
   "outputs": [],
   "source": [
    "slider_initial_pose=PlanarPose(0.1, -0.3, -1.5)\n",
    "trajectory = plan_trajectory(slider_initial_pose, slider_type=\"convex_5\")"
   ]
  },
  {
   "cell_type": "code",
   "execution_count": null,
   "metadata": {},
   "outputs": [],
   "source": [
    "ani = visualize_planar_pushing_trajectory(trajectory)\n",
    "display(HTML(ani.to_jshtml()))"
   ]
  },
  {
   "cell_type": "markdown",
   "metadata": {},
   "source": [
    "##### Planning for a T-shaped (nonconvex) geometry"
   ]
  },
  {
   "cell_type": "code",
   "execution_count": null,
   "metadata": {},
   "outputs": [],
   "source": [
    "slider_initial_pose=PlanarPose(0.24, 0.15, -0.8)\n",
    "trajectory = plan_trajectory(slider_initial_pose, slider_type=\"tee\")"
   ]
  },
  {
   "cell_type": "code",
   "execution_count": null,
   "metadata": {},
   "outputs": [],
   "source": [
    "ani = visualize_planar_pushing_trajectory(trajectory)\n",
    "display(HTML(ani.to_jshtml()))"
   ]
  }
 ],
 "metadata": {
  "kernelspec": {
   "display_name": ".venv",
   "language": "python",
   "name": "python3"
  },
  "language_info": {
   "codemirror_mode": {
    "name": "ipython",
    "version": 3
   },
   "file_extension": ".py",
   "mimetype": "text/x-python",
   "name": "python",
   "nbconvert_exporter": "python",
   "pygments_lexer": "ipython3",
   "version": "3.12.4"
  }
 },
 "nbformat": 4,
 "nbformat_minor": 2
}
