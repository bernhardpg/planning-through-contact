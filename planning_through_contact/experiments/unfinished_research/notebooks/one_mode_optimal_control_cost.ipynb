version https://git-lfs.github.com/spec/v1
oid sha256:386a60ad362eb08e4859135620ddf65feffda98cc9fbf0f7f5b54bfa8ab4c160
size 11450659
