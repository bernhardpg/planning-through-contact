version https://git-lfs.github.com/spec/v1
oid sha256:2a0344be12f443f02f0873053e6c3f40881eed7390bcf5298a62f8cf3217b9a9
size 261320
