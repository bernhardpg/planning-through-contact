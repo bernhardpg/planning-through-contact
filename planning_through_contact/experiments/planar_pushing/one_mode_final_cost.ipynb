{
 "cells": [
  {
   "cell_type": "code",
   "execution_count": 1,
   "metadata": {},
   "outputs": [],
   "source": [
    "from planning_through_contact.geometry.collision_geometry.box_2d import Box2d\n",
    "from planning_through_contact.geometry.rigid_body import RigidBody\n",
    "from planning_through_contact.planning.planar.planar_plan_config import ContactCostType, PlanarCostFunctionTerms, PlanarPlanConfig, SliderPusherSystemConfig\n",
    "from planning_through_contact.geometry.collision_geometry.collision_geometry import ContactLocation, PolytopeContactLocation\n",
    "from planning_through_contact.geometry.planar.face_contact import FaceContactMode\n",
    "from planning_through_contact.geometry.planar.planar_pose import PlanarPose\n",
    "from planning_through_contact.geometry.planar.planar_pushing_trajectory import PlanarPushingTrajectory\n",
    "from planning_through_contact.geometry.planar.trajectory_builder import PlanarTrajectoryBuilder\n",
    "from planning_through_contact.visualize.planar_pushing import visualize_planar_pushing_trajectory\n",
    "from planning_through_contact.planning.planar.planar_plan_config import PlanarPushingStartAndGoal\n",
    "from planning_through_contact.visualize.analysis import analyze_mode_result\n",
    "\n",
    "from pydrake.solvers import MosekSolver\n",
    "from IPython.display import HTML, SVG, display"
   ]
  },
  {
   "cell_type": "code",
   "execution_count": null,
   "metadata": {},
   "outputs": [],
   "source": [
    "# Define slider\n",
    "mass = 0.3\n",
    "box_geometry = Box2d(width=0.3, height=0.3)\n",
    "box = RigidBody(\"box\", box_geometry, mass)\n",
    "\n",
    "# Define pusher\n",
    "pusher_radius = 0.05\n",
    "\n",
    "cfg = SliderPusherSystemConfig(\n",
    "    slider=box,\n",
    "    pusher_radius=pusher_radius,\n",
    "    friction_coeff_slider_pusher=0.5,\n",
    "    friction_coeff_table_slider=0.5,\n",
    "    integration_constant=0.7\n",
    ")\n",
    "plan_cfg = PlanarPlanConfig(\n",
    "    dynamics_config=cfg, num_knot_points_contact=4, use_band_sparsity=True\n",
    ")\n",
    "\n",
    "# Define cost\n",
    "plan_cfg.contact_config.cost_type = ContactCostType.STANDARD\n",
    "plan_cfg.contact_config.sq_forces = 0.01"
   ]
  },
  {
   "cell_type": "code",
   "execution_count": null,
   "metadata": {},
   "outputs": [],
   "source": [
    "def plan(contact_location, plan_cfg, initial_pose, final_pose):\n",
    "    plan_cfg.contact_config.target_slider_pose = final_pose\n",
    "    plan_cfg.start_and_goal = PlanarPushingStartAndGoal(initial_pose, final_pose)\n",
    "    mode = FaceContactMode.create_from_plan_spec(contact_location, plan_cfg)\n",
    "    mode.set_slider_initial_pose(initial_pose)\n",
    "    mode.set_slider_final_pose(final_pose)\n",
    "\n",
    "    mode.formulate_convex_relaxation()\n",
    "    solver = MosekSolver()\n",
    "    result = solver.Solve(mode.relaxed_prog)  # type: ignore\n",
    "    assert result.is_success()\n",
    "\n",
    "    vars = mode.variables.eval_result(result)\n",
    "    traj = PlanarPushingTrajectory(plan_cfg, [vars])\n",
    "\n",
    "    ani = visualize_planar_pushing_trajectory(traj, visualize_knot_points=True)\n",
    "    return traj, mode, result, ani"
   ]
  },
  {
   "cell_type": "code",
   "execution_count": null,
   "metadata": {},
   "outputs": [],
   "source": [
    "contact_location = PolytopeContactLocation(ContactLocation.FACE, 3)\n",
    "initial_pose = PlanarPose(0, 0, 0)\n",
    "final_pose = PlanarPose(0.3, 0.0, 1.2)\n",
    "traj, mode, result, ani = plan(contact_location, plan_cfg, initial_pose, final_pose)\n",
    "\n",
    "display(HTML(ani.to_jshtml()))\n",
    "analyze_mode_result(mode, traj, result)"
   ]
  }
 ],
 "metadata": {
  "kernelspec": {
   "display_name": "planning-through-contact-voCOubHY-py3.11",
   "language": "python",
   "name": "python3"
  },
  "language_info": {
   "codemirror_mode": {
    "name": "ipython",
    "version": 3
   },
   "file_extension": ".py",
   "mimetype": "text/x-python",
   "name": "python",
   "nbconvert_exporter": "python",
   "pygments_lexer": "ipython3",
   "version": "3.11.5"
  }
 },
 "nbformat": 4,
 "nbformat_minor": 2
}
