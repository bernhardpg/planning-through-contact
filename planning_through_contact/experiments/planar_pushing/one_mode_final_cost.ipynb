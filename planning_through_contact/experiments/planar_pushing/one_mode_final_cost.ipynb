version https://git-lfs.github.com/spec/v1
oid sha256:6387c0e910f6ecfd7dd835bf8cc2e6c58a4120538564ea4a546262c9bbd57bc9
size 17552345
