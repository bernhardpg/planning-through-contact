version https://git-lfs.github.com/spec/v1
oid sha256:d6d9c30361fdc02ecc38a889556d2628c0493e82e3a9bf4cfdb8667aced5da13
size 21750471
