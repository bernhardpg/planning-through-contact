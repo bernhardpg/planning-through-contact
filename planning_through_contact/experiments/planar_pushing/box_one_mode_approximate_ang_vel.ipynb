version https://git-lfs.github.com/spec/v1
oid sha256:66e5ff2f1b91cf2a084e5c460b45dfed9ae630cbc97b8c12b4920883cc023ddd
size 8161
