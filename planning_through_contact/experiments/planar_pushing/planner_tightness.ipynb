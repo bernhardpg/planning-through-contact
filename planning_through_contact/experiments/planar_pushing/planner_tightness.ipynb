{
 "cells": [
  {
   "cell_type": "code",
   "execution_count": 1,
   "metadata": {},
   "outputs": [],
   "source": [
    "import numpy as np\n",
    "from pathlib import Path\n",
    "from scripts.planar_pushing.create_plan import get_sugar_box\n",
    "from planning_through_contact.geometry.planar.planar_pose import PlanarPose\n",
    "from planning_through_contact.planning.planar.planar_plan_config import (\n",
    "    PlanarPlanConfig,\n",
    "    PlanarSolverParams,\n",
    "    SliderPusherSystemConfig,\n",
    ")\n",
    "from planning_through_contact.planning.planar.planar_pushing_planner import (\n",
    "    PlanarPushingPlanner,\n",
    ")\n",
    "from planning_through_contact.visualize.planar import (\n",
    "    visualize_planar_pushing_trajectory,\n",
    ")\n",
    "from IPython.display import HTML"
   ]
  },
  {
   "cell_type": "code",
   "execution_count": 2,
   "metadata": {},
   "outputs": [],
   "source": [
    "slider = get_sugar_box()\n",
    "pusher_radius = 0.035\n",
    "\n",
    "dynamics_config = SliderPusherSystemConfig(pusher_radius=pusher_radius, slider=slider)\n",
    "\n",
    "config = PlanarPlanConfig(\n",
    "    time_non_collision=2.0,\n",
    "    time_in_contact=2.0,\n",
    "    num_knot_points_contact=4,\n",
    "    num_knot_points_non_collision=4,\n",
    "    avoid_object=True,\n",
    "    avoidance_cost=\"quadratic\",\n",
    "    no_cycles=False,\n",
    "    dynamics_config=dynamics_config,\n",
    "    allow_teleportation=False,\n",
    ")\n",
    "\n",
    "planner = PlanarPushingPlanner(config)\n",
    "\n",
    "solver_params = PlanarSolverParams(\n",
    "    gcs_max_rounded_paths=10,\n",
    "    print_flows=True,\n",
    "    assert_determinants=True,\n",
    "    print_solver_output=False,\n",
    "    print_path=True,\n",
    "    measure_solve_time=True,\n",
    "    get_rounded_and_original_traj=True,\n",
    ")\n"
   ]
  },
  {
   "cell_type": "code",
   "execution_count": null,
   "metadata": {},
   "outputs": [],
   "source": [
    "slider_initial_pose = PlanarPose(x=0.55, y=0.0, theta=0.0)\n",
    "slider_target_pose = PlanarPose(x=0.65, y=0.0, theta=-0.5)\n",
    "finger_initial_pose = PlanarPose(x=-0.2, y=-0.2, theta=0.0)\n",
    "finger_target_pose = PlanarPose(x=-0.2, y=-0.2, theta=0.0)\n",
    "\n",
    "planner.set_initial_poses(finger_initial_pose, slider_initial_pose)\n",
    "planner.set_target_poses(finger_target_pose, slider_target_pose)\n",
    "\n",
    "traj_original, traj_rounded = planner.plan_trajectory(solver_params)\n",
    "\n",
    "HTML(\n",
    "    visualize_planar_pushing_trajectory(\n",
    "        traj_original, visualize_knot_points=True\n",
    "    ).to_jshtml()\n",
    ")\n",
    "HTML(\n",
    "    visualize_planar_pushing_trajectory(\n",
    "        traj_rounded, visualize_knot_points=True\n",
    "    ).to_jshtml()\n",
    ")"
   ]
  }
 ],
 "metadata": {
  "kernelspec": {
   "display_name": "planning-through-contact-voCOubHY-py3.11",
   "language": "python",
   "name": "python3"
  },
  "language_info": {
   "codemirror_mode": {
    "name": "ipython",
    "version": 3
   },
   "file_extension": ".py",
   "mimetype": "text/x-python",
   "name": "python",
   "nbconvert_exporter": "python",
   "pygments_lexer": "ipython3",
   "version": "3.11.4"
  },
  "orig_nbformat": 4
 },
 "nbformat": 4,
 "nbformat_minor": 2
}
