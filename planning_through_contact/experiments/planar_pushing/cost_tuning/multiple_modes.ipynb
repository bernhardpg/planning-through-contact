version https://git-lfs.github.com/spec/v1
oid sha256:340e8138f5a8124eb7960cdb05afcfe28a3af4686b33fa161ec6c753b3eab543
size 20338203
