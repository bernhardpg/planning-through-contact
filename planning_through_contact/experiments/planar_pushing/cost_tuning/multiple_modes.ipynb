version https://git-lfs.github.com/spec/v1
oid sha256:059df50c9a51dc54144b69f834ec7291450f47cd070f3e1c40c874bbfbc00f9f
size 62404048
