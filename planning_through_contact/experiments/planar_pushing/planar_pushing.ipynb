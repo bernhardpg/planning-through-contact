{
 "cells": [
  {
   "cell_type": "code",
   "execution_count": 1,
   "metadata": {},
   "outputs": [],
   "source": [
    "# Import local LCM build to notebook\n",
    "import sys\n",
    "sys.path.append('/Users/bernhardpg/software/lcm/build/python')\n",
    "import lcm"
   ]
  },
  {
   "cell_type": "code",
   "execution_count": 2,
   "metadata": {},
   "outputs": [],
   "source": [
    "# Set the pwd to the repo so we can load local files\n",
    "import os\n",
    "os.chdir(\"/Users/bernhardpg/development/planning-through-contact\")"
   ]
  },
  {
   "cell_type": "code",
   "execution_count": 3,
   "metadata": {},
   "outputs": [
    {
     "name": "stderr",
     "output_type": "stream",
     "text": [
      "/Users/bernhardpg/development/planning-through-contact/planning_through_contact/simulation/planar_pushing/planar_pushing_iiwa.py:18: DrakeDeprecationWarning: Please import from the pydrake.manipulation module directly, instead of the deprecated pydrake.manipulation.kuka_iiwa submodule. The deprecated code will be removed from Drake on or after 2023-11-01.\n",
      "  from pydrake.manipulation.kuka_iiwa import IiwaCommandReceiver, IiwaStatusSender\n"
     ]
    }
   ],
   "source": [
    "from pathlib import Path\n",
    "\n",
    "import numpy as np\n",
    "from planning_through_contact.geometry.planar.trajectory_builder import PlanarTrajectoryBuilder\n",
    "from planning_through_contact.planning.planar.planar_pushing_planner import PlanarPushingPlanner, PlanarPlanSpecs\n",
    "from planning_through_contact.simulation.planar_pushing.planar_pushing_mock_iiwa import (\n",
    "    PlanarPose,\n",
    "    PlanarPushingMockSimulation,\n",
    ")\n",
    "from planning_through_contact.visualize.planar import visualize_planar_pushing_trajectory\n",
    "from planning_through_contact.geometry.planar.trajectory_builder import (\n",
    "    PlanarPushingTrajectory,\n",
    ")"
   ]
  },
  {
   "cell_type": "code",
   "execution_count": 4,
   "metadata": {},
   "outputs": [
    {
     "name": "stderr",
     "output_type": "stream",
     "text": [
      "INFO:drake:Meshcat listening for connections at http://localhost:7001\n"
     ]
    }
   ],
   "source": [
    "sim = PlanarPushingMockSimulation()"
   ]
  },
  {
   "cell_type": "code",
   "execution_count": null,
   "metadata": {},
   "outputs": [],
   "source": [
    "DEBUG = False"
   ]
  },
  {
   "cell_type": "code",
   "execution_count": 5,
   "metadata": {},
   "outputs": [],
   "source": [
    "# Set simulation starting parameters\n",
    "# NOTE: These are currently hardcoded to match the pre-computed plan\n",
    "box_initial_pose = PlanarPose(x=0.0, y=0.5, theta=0.0)\n",
    "finger_initial_pose = PlanarPose(x=0.7, y=0.3, theta=0.0)\n",
    "\n",
    "sim.reset()\n",
    "sim.set_box_planar_pose(box_initial_pose)\n",
    "sim.set_pusher_planar_pose(finger_initial_pose)\n",
    "\n",
    "sim.run(1e-4) # advance the sim to we can see anything"
   ]
  },
  {
   "cell_type": "code",
   "execution_count": 6,
   "metadata": {},
   "outputs": [
    {
     "name": "stdout",
     "output_type": "stream",
     "text": [
      "Saved diagram to: diagram.png\n"
     ]
    }
   ],
   "source": [
    "if DEBUG:\n",
    "    sim.export_diagram(\"diagram.png\")"
   ]
  },
  {
   "cell_type": "markdown",
   "metadata": {},
   "source": [
    "For teleop control, run the next cell, followed by the script `simulation/controllers/end_effector_teleop_mouse.py`."
   ]
  },
  {
   "cell_type": "code",
   "execution_count": 7,
   "metadata": {},
   "outputs": [],
   "source": [
    "sim.run()"
   ]
  },
  {
   "cell_type": "markdown",
   "metadata": {},
   "source": [
    "Load the pre-computed trajectory"
   ]
  },
  {
   "cell_type": "code",
   "execution_count": null,
   "metadata": {},
   "outputs": [],
   "source": [
    "traj = PlanarPushingTrajectory.load(\"box_pushing_traj.pkl\")\n"
   ]
  },
  {
   "cell_type": "code",
   "execution_count": null,
   "metadata": {},
   "outputs": [
    {
     "name": "stdout",
     "output_type": "stream",
     "text": [
      "0.01\n"
     ]
    }
   ],
   "source": [
    "print(traj.dt)"
   ]
  }
 ],
 "metadata": {
  "kernelspec": {
   "display_name": "planning-through-contact-voCOubHY-py3.11",
   "language": "python",
   "name": "python3"
  },
  "language_info": {
   "codemirror_mode": {
    "name": "ipython",
    "version": 3
   },
   "file_extension": ".py",
   "mimetype": "text/x-python",
   "name": "python",
   "nbconvert_exporter": "python",
   "pygments_lexer": "ipython3",
   "version": "3.11.4"
  },
  "orig_nbformat": 4
 },
 "nbformat": 4,
 "nbformat_minor": 2
}
