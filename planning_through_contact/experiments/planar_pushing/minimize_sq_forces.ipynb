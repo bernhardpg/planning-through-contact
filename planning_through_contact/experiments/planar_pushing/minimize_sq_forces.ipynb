version https://git-lfs.github.com/spec/v1
oid sha256:a3e21c2638de120e3554a10bc6911e58da19d8919ee0bacfbf67badef40a5135
size 21762410
