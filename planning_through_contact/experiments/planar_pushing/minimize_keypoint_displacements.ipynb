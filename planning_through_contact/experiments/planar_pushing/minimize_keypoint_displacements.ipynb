version https://git-lfs.github.com/spec/v1
oid sha256:e21e226e5ee900466ddef40554ada9c28ac2621a836ae10e4320051f86cbb8b9
size 10845886
